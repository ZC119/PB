{
 "cells": [
  {
   "cell_type": "code",
   "execution_count": 2,
   "metadata": {},
   "outputs": [
    {
     "name": "stderr",
     "output_type": "stream",
     "text": [
      "/home/chiz/anaconda3/lib/python3.6/importlib/_bootstrap.py:219: RuntimeWarning: numpy.dtype size changed, may indicate binary incompatibility. Expected 96, got 88\n",
      "  return f(*args, **kwds)\n",
      "/home/chiz/anaconda3/lib/python3.6/importlib/_bootstrap.py:219: RuntimeWarning: numpy.dtype size changed, may indicate binary incompatibility. Expected 96, got 88\n",
      "  return f(*args, **kwds)\n",
      "/home/chiz/anaconda3/lib/python3.6/importlib/_bootstrap.py:219: RuntimeWarning: numpy.dtype size changed, may indicate binary incompatibility. Expected 96, got 88\n",
      "  return f(*args, **kwds)\n",
      "/home/chiz/anaconda3/lib/python3.6/importlib/_bootstrap.py:219: RuntimeWarning: numpy.dtype size changed, may indicate binary incompatibility. Expected 96, got 88\n",
      "  return f(*args, **kwds)\n",
      "/home/chiz/anaconda3/lib/python3.6/importlib/_bootstrap.py:219: RuntimeWarning: numpy.dtype size changed, may indicate binary incompatibility. Expected 96, got 88\n",
      "  return f(*args, **kwds)\n"
     ]
    }
   ],
   "source": [
    "import numpy as np\n",
    "from ripser import Rips\n",
    "import os\n",
    "from tqdm import tqdm_notebook\n",
    "import matplotlib.pyplot as plt"
   ]
  },
  {
   "cell_type": "markdown",
   "metadata": {},
   "source": [
    "## Compute PD of PC\n",
    "\n",
    "**WARNING!** It takes several hours to compute PDs so we provide PDs directly in `PD_pc` folder."
   ]
  },
  {
   "cell_type": "code",
   "execution_count": 8,
   "metadata": {},
   "outputs": [
    {
     "name": "stdout",
     "output_type": "stream",
     "text": [
      "Rips(maxdim=1, thresh=inf, coeff=2, do_cocycles=False, verbose=True)\n"
     ]
    }
   ],
   "source": [
    "rips = Rips()\n",
    "\n",
    "root = './data/PC_train'"
   ]
  },
  {
   "cell_type": "code",
   "execution_count": 12,
   "metadata": {},
   "outputs": [
    {
     "data": {
      "application/vnd.jupyter.widget-view+json": {
       "model_id": "10990cbe82684e2482268717ae313009",
       "version_major": 2,
       "version_minor": 0
      },
      "text/html": [
       "<p>Failed to display Jupyter Widget of type <code>HBox</code>.</p>\n",
       "<p>\n",
       "  If you're reading this message in the Jupyter Notebook or JupyterLab Notebook, it may mean\n",
       "  that the widgets JavaScript is still loading. If this message persists, it\n",
       "  likely means that the widgets JavaScript library is either not installed or\n",
       "  not enabled. See the <a href=\"https://ipywidgets.readthedocs.io/en/stable/user_install.html\">Jupyter\n",
       "  Widgets Documentation</a> for setup instructions.\n",
       "</p>\n",
       "<p>\n",
       "  If you're reading this message in another frontend (for example, a static\n",
       "  rendering on GitHub or <a href=\"https://nbviewer.jupyter.org/\">NBViewer</a>),\n",
       "  it may mean that your frontend doesn't currently support widgets.\n",
       "</p>\n"
      ],
      "text/plain": [
       "HBox(children=(IntProgress(value=0, max=9840), HTML(value='')))"
      ]
     },
     "metadata": {},
     "output_type": "display_data"
    }
   ],
   "source": [
    "os.mkdir('PD_pc')\n",
    "\n",
    "path = root\n",
    "\n",
    "files = os.listdir(path)\n",
    "\n",
    "files.remove('label_train.txt')\n",
    "\n",
    "for file in tqdm_notebook(files):\n",
    "    data = np.loadtxt(os.path.join(path, file))\n",
    "    dgm = rips.fit_transform(data)\n",
    "    np.savetxt('./PD_pc/0_' + file, np.array(dgm[0]), fmt='%s')\n",
    "    np.savetxt('./PD_pc/1_' + file, np.array(dgm[1]), fmt='%s')"
   ]
  },
  {
   "cell_type": "code",
   "execution_count": 3,
   "metadata": {},
   "outputs": [],
   "source": [
    "# normalization\n",
    "import glob\n",
    "\n",
    "pd_files = glob.glob('./PD_pc/*.txt')\n",
    "\n",
    "pd_files = sorted(pd_files)\n"
   ]
  },
  {
   "cell_type": "code",
   "execution_count": 5,
   "metadata": {},
   "outputs": [],
   "source": [
    "# H0 normalization\n",
    "max_h0 = 0\n",
    "for i in range(len(pd_files)//2):\n",
    "    data = np.loadtxt(pd_files[i])[:-1]  # disgarding inf \n",
    "    if np.max(data) > max_h0:\n",
    "        max_h0 = np.max(data)\n",
    "\n",
    "# H1 normalization\n",
    "max_h1 = 0\n",
    "for i in range(len(pd_files)//2):\n",
    "    data = np.loadtxt(pd_files[len(pd_files)//2 + i])\n",
    "    try:\n",
    "        data[:, 1] = data[:, 1] - data[:, 0]\n",
    "    except:\n",
    "        data = data.reshape((1, 2))\n",
    "        data[:, 1] = data[:, 1] - data[:, 0]\n",
    "    if np.max(data) > max_h1:\n",
    "        max_h1 = np.max(data) "
   ]
  },
  {
   "cell_type": "code",
   "execution_count": 9,
   "metadata": {},
   "outputs": [
    {
     "data": {
      "text/plain": [
       "(0.7010728120803833, 1.0598217248916626)"
      ]
     },
     "execution_count": 9,
     "metadata": {},
     "output_type": "execute_result"
    }
   ],
   "source": [
    "max_h0, max_h1"
   ]
  },
  {
   "cell_type": "code",
   "execution_count": 31,
   "metadata": {},
   "outputs": [],
   "source": [
    "# H0 normalization\n",
    "\n",
    "for i in range(len(pd_files)//2):\n",
    "    data = np.loadtxt(pd_files[i])[:-1]  # disgarding inf     \n",
    "    data = data / max_h0\n",
    "    np.savetxt('./PD_pc/' + pd_files[i].split('/')[-1], data, fmt='%s')\n",
    "\n",
    "# H1 normalization\n",
    "\n",
    "for i in range(len(pd_files)//2):\n",
    "    data = np.loadtxt(pd_files[len(pd_files)//2 + i]) \n",
    "    try:\n",
    "        data[:, 1] = data[:, 1] - data[:, 0]\n",
    "    except:\n",
    "        data = data.reshape((1, 2))\n",
    "        data[:, 1] = data[:, 1] - data[:, 0]\n",
    "    data = data / max_h1\n",
    "    np.savetxt('./PD_pc/' + pd_files[len(pd_files)//2 + i].split('/')[-1], data, fmt='%s')        "
   ]
  }
 ],
 "metadata": {
  "kernelspec": {
   "display_name": "Python 3",
   "language": "python",
   "name": "python3"
  },
  "language_info": {
   "codemirror_mode": {
    "name": "ipython",
    "version": 3
   },
   "file_extension": ".py",
   "mimetype": "text/x-python",
   "name": "python",
   "nbconvert_exporter": "python",
   "pygments_lexer": "ipython3",
   "version": "3.7.3"
  },
  "toc": {
   "nav_menu": {},
   "number_sections": true,
   "sideBar": true,
   "skip_h1_title": false,
   "title_cell": "Table of Contents",
   "title_sidebar": "Contents",
   "toc_cell": true,
   "toc_position": {},
   "toc_section_display": true,
   "toc_window_display": false
  }
 },
 "nbformat": 4,
 "nbformat_minor": 2
}
