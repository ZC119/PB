{
 "cells": [
  {
   "cell_type": "code",
   "execution_count": 6,
   "metadata": {},
   "outputs": [],
   "source": [
    "import numpy as np\n",
    "from ripser import Rips\n",
    "import os\n",
    "from tqdm import tqdm_notebook\n",
    "import matplotlib.pyplot as plt"
   ]
  },
  {
   "cell_type": "markdown",
   "metadata": {},
   "source": [
    "## Compute PD of 3d dynamic system\n",
    "\n",
    "**WARNING!** It takes several hours to compute PDs so we provide PDs directly in `PD_dynamic3d` folder."
   ]
  },
  {
   "cell_type": "code",
   "execution_count": 7,
   "metadata": {},
   "outputs": [
    {
     "name": "stdout",
     "output_type": "stream",
     "text": [
      "Rips(maxdim=1, thresh=inf, coeff=2, do_cocycles=False, verbose=True)\n"
     ]
    }
   ],
   "source": [
    "rips = Rips()\n",
    "\n",
    "root = './data/dynamic3d'\n",
    "\n",
    "M0 = [3, 3.3, 3.48, 3.54, 3.57, 3.532, 3.571, 3.3701, 3.4001]"
   ]
  },
  {
   "cell_type": "code",
   "execution_count": null,
   "metadata": {},
   "outputs": [],
   "source": [
    "os.mkdir('PD_dynamic3d')\n",
    "\n",
    "for i in range(len(M0)):\n",
    "    path = os.path.join(root, str(M0[i]))\n",
    "    print('class{} computing-----'.format(i+1))\n",
    "    \n",
    "    files = os.listdir(path)\n",
    "    \n",
    "    for file in tqdm_notebook(files):\n",
    "        data = np.loadtxt(os.path.join(path, file))\n",
    "        dgm = rips.fit_transform(data)\n",
    "        np.savetxt('./PD_dynamic3d/{}_{}_'.format(0, i) + file, np.array(dgm[0]), fmt='%s')\n",
    "        np.savetxt('./PD_dynamic3d/{}_{}_'.format(1, i) + file, np.array(dgm[1]), fmt='%s')"
   ]
  },
  {
   "cell_type": "code",
   "execution_count": null,
   "metadata": {},
   "outputs": [],
   "source": [
    "# normalization\n",
    "\n",
    "import glob\n",
    "\n",
    "pd_files = glob.glob('./PD_dynamic3d/*.txt')\n",
    "\n",
    "pd_files = sorted(pd_files)\n",
    "\n",
    "# H0 normalization\n",
    "max_h0 = 0\n",
    "for i in range(len(pd_files)//2):\n",
    "    data = np.loadtxt(pd_files[i])[:-1]  # disgarding inf \n",
    "    if np.max(data) > max_h0:\n",
    "        max_h0 = np.max(data)\n",
    "\n",
    "for i in range(len(pd_files)//2):\n",
    "    data = np.loadtxt(pd_files[i])[:-1]  # disgarding inf     \n",
    "    data = data / max_h0\n",
    "    np.savetxt('./PD_dynamic3d/' + pd_files[i].split('/')[-1], data, fmt='%s')\n",
    "\n",
    "# H1 normalization\n",
    "max_h1 = 0\n",
    "for i in range(len(pd_files)//2):\n",
    "    data = np.loadtxt(pd_files[len(pd_files)//2 + i])\n",
    "    try:\n",
    "        data[:, 1] = data[:, 1] - data[:, 0]\n",
    "    except:\n",
    "        data = data.reshape((1, 2))\n",
    "        data[:, 1] = data[:, 1] - data[:, 0]\n",
    "    if np.max(data) > max_h1:\n",
    "        max_h1 = np.max(data)\n",
    "        \n",
    "for i in range(len(pd_files)//2):\n",
    "    data = np.loadtxt(pd_files[len(pd_files)//2 + i]) \n",
    "    try:\n",
    "        data[:, 1] = data[:, 1] - data[:, 0]\n",
    "    except:\n",
    "        data = data.reshape((1, 2))\n",
    "        data[:, 1] = data[:, 1] - data[:, 0]\n",
    "    data = data / max_h1\n",
    "    np.savetxt('./PD_dynamic3d/' + pd_files[len(pd_files)//2 + i].split('/')[-1], data, fmt='%s')        "
   ]
  }
 ],
 "metadata": {
  "kernelspec": {
   "display_name": "Python 3",
   "language": "python",
   "name": "python3"
  },
  "language_info": {
   "codemirror_mode": {
    "name": "ipython",
    "version": 3
   },
   "file_extension": ".py",
   "mimetype": "text/x-python",
   "name": "python",
   "nbconvert_exporter": "python",
   "pygments_lexer": "ipython3",
   "version": "3.7.3"
  },
  "toc": {
   "nav_menu": {},
   "number_sections": true,
   "sideBar": true,
   "skip_h1_title": false,
   "title_cell": "Table of Contents",
   "title_sidebar": "Contents",
   "toc_cell": true,
   "toc_position": {},
   "toc_section_display": true,
   "toc_window_display": false
  }
 },
 "nbformat": 4,
 "nbformat_minor": 2
}
